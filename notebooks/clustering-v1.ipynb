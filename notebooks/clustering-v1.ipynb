{
 "cells": [
  {
   "cell_type": "markdown",
   "metadata": {},
   "source": [
    "## Clustering the Riders\n",
    "This time with DBSCAN."
   ]
  },
  {
   "cell_type": "code",
   "execution_count": 1,
   "metadata": {},
   "outputs": [],
   "source": [
    "import sys\n",
    "sys.path.append(\"..\")"
   ]
  },
  {
   "cell_type": "code",
   "execution_count": 2,
   "metadata": {},
   "outputs": [],
   "source": [
    "import pandas as pd\n",
    "import matplotlib.pyplot as plt\n",
    "import numpy as np\n",
    "import umap\n",
    "import umap.plot\n",
    "import seaborn as sns\n",
    "from scipy.stats import mode\n",
    "from sklearn.cluster import DBSCAN\n",
    "from sklearn.impute import SimpleImputer\n",
    "from sklearn.pipeline import Pipeline\n",
    "from sklearn.preprocessing import StandardScaler\n",
    "from src.dbops import fetch_riders, fetch_stages, assign_clusters\n",
    "from src.kmeans_selection import PREPROCESSORS, SPECIALTIES"
   ]
  },
  {
   "cell_type": "markdown",
   "metadata": {},
   "source": [
    "### Loading the Riders"
   ]
  },
  {
   "cell_type": "code",
   "execution_count": 3,
   "metadata": {},
   "outputs": [
    {
     "data": {
      "text/html": [
       "<div>\n",
       "<style scoped>\n",
       "    .dataframe tbody tr th:only-of-type {\n",
       "        vertical-align: middle;\n",
       "    }\n",
       "\n",
       "    .dataframe tbody tr th {\n",
       "        vertical-align: top;\n",
       "    }\n",
       "\n",
       "    .dataframe thead th {\n",
       "        text-align: right;\n",
       "    }\n",
       "</style>\n",
       "<table border=\"1\" class=\"dataframe\">\n",
       "  <thead>\n",
       "    <tr style=\"text-align: right;\">\n",
       "      <th></th>\n",
       "      <th>name</th>\n",
       "      <th>nationality</th>\n",
       "      <th>weight</th>\n",
       "      <th>height</th>\n",
       "      <th>points.classic</th>\n",
       "      <th>points.gc</th>\n",
       "      <th>points.tt</th>\n",
       "      <th>points.sprint</th>\n",
       "      <th>points.climber</th>\n",
       "    </tr>\n",
       "  </thead>\n",
       "  <tbody>\n",
       "    <tr>\n",
       "      <th>0</th>\n",
       "      <td>david-zabriskie</td>\n",
       "      <td>United States</td>\n",
       "      <td>67.0</td>\n",
       "      <td>183.0</td>\n",
       "      <td>62</td>\n",
       "      <td>1058</td>\n",
       "      <td>3065</td>\n",
       "      <td>204</td>\n",
       "      <td>185</td>\n",
       "    </tr>\n",
       "    <tr>\n",
       "      <th>1</th>\n",
       "      <td>lance-armstrong</td>\n",
       "      <td>United States</td>\n",
       "      <td>72.0</td>\n",
       "      <td>178.0</td>\n",
       "      <td>3827</td>\n",
       "      <td>3642</td>\n",
       "      <td>3813</td>\n",
       "      <td>2732</td>\n",
       "      <td>1653</td>\n",
       "    </tr>\n",
       "    <tr>\n",
       "      <th>2</th>\n",
       "      <td>alexandre-vinokourov</td>\n",
       "      <td>Kazakhstan</td>\n",
       "      <td>68.0</td>\n",
       "      <td>177.0</td>\n",
       "      <td>3008</td>\n",
       "      <td>5726</td>\n",
       "      <td>4500</td>\n",
       "      <td>3510</td>\n",
       "      <td>3240</td>\n",
       "    </tr>\n",
       "    <tr>\n",
       "      <th>3</th>\n",
       "      <td>george-hincapie</td>\n",
       "      <td>United States</td>\n",
       "      <td>83.0</td>\n",
       "      <td>191.0</td>\n",
       "      <td>4618</td>\n",
       "      <td>2389</td>\n",
       "      <td>2331</td>\n",
       "      <td>4370</td>\n",
       "      <td>593</td>\n",
       "    </tr>\n",
       "    <tr>\n",
       "      <th>4</th>\n",
       "      <td>laszlo-bodrogi</td>\n",
       "      <td>France</td>\n",
       "      <td>NaN</td>\n",
       "      <td>187.0</td>\n",
       "      <td>828</td>\n",
       "      <td>1074</td>\n",
       "      <td>4949</td>\n",
       "      <td>796</td>\n",
       "      <td>76</td>\n",
       "    </tr>\n",
       "  </tbody>\n",
       "</table>\n",
       "</div>"
      ],
      "text/plain": [
       "                   name    nationality  weight  height  points.classic  \\\n",
       "0       david-zabriskie  United States    67.0   183.0              62   \n",
       "1       lance-armstrong  United States    72.0   178.0            3827   \n",
       "2  alexandre-vinokourov     Kazakhstan    68.0   177.0            3008   \n",
       "3       george-hincapie  United States    83.0   191.0            4618   \n",
       "4        laszlo-bodrogi         France     NaN   187.0             828   \n",
       "\n",
       "   points.gc  points.tt  points.sprint  points.climber  \n",
       "0       1058       3065            204             185  \n",
       "1       3642       3813           2732            1653  \n",
       "2       5726       4500           3510            3240  \n",
       "3       2389       2331           4370             593  \n",
       "4       1074       4949            796              76  "
      ]
     },
     "execution_count": 3,
     "metadata": {},
     "output_type": "execute_result"
    }
   ],
   "source": [
    "project = [\"name\", \"nationality\", \"weight\", \"height\", \"points\"]\n",
    "riders = fetch_riders(project=project)\n",
    "riders = pd.json_normalize(riders)\n",
    "riders.head()"
   ]
  },
  {
   "cell_type": "markdown",
   "metadata": {},
   "source": [
    "### Exploring the Data"
   ]
  },
  {
   "cell_type": "code",
   "execution_count": 4,
   "metadata": {},
   "outputs": [
    {
     "name": "stdout",
     "output_type": "stream",
     "text": [
      "<class 'pandas.core.frame.DataFrame'>\n",
      "RangeIndex: 1171 entries, 0 to 1170\n",
      "Data columns (total 9 columns):\n",
      " #   Column          Non-Null Count  Dtype  \n",
      "---  ------          --------------  -----  \n",
      " 0   name            1171 non-null   object \n",
      " 1   nationality     1171 non-null   object \n",
      " 2   weight          932 non-null    float64\n",
      " 3   height          939 non-null    float64\n",
      " 4   points.classic  1171 non-null   int64  \n",
      " 5   points.gc       1171 non-null   int64  \n",
      " 6   points.tt       1171 non-null   int64  \n",
      " 7   points.sprint   1171 non-null   int64  \n",
      " 8   points.climber  1171 non-null   int64  \n",
      "dtypes: float64(2), int64(5), object(2)\n",
      "memory usage: 82.5+ KB\n"
     ]
    }
   ],
   "source": [
    "riders.info()"
   ]
  },
  {
   "cell_type": "code",
   "execution_count": 5,
   "metadata": {},
   "outputs": [
    {
     "data": {
      "text/plain": [
       "Italy          236\n",
       "Spain          144\n",
       "France         143\n",
       "Belgium         85\n",
       "Netherlands     63\n",
       "Name: nationality, dtype: int64"
      ]
     },
     "execution_count": 5,
     "metadata": {},
     "output_type": "execute_result"
    }
   ],
   "source": [
    "riders[\"nationality\"].value_counts().head()"
   ]
  },
  {
   "cell_type": "code",
   "execution_count": 6,
   "metadata": {},
   "outputs": [
    {
     "data": {
      "text/html": [
       "<div>\n",
       "<style scoped>\n",
       "    .dataframe tbody tr th:only-of-type {\n",
       "        vertical-align: middle;\n",
       "    }\n",
       "\n",
       "    .dataframe tbody tr th {\n",
       "        vertical-align: top;\n",
       "    }\n",
       "\n",
       "    .dataframe thead th {\n",
       "        text-align: right;\n",
       "    }\n",
       "</style>\n",
       "<table border=\"1\" class=\"dataframe\">\n",
       "  <thead>\n",
       "    <tr style=\"text-align: right;\">\n",
       "      <th></th>\n",
       "      <th>weight</th>\n",
       "      <th>height</th>\n",
       "      <th>points.classic</th>\n",
       "      <th>points.gc</th>\n",
       "      <th>points.tt</th>\n",
       "      <th>points.sprint</th>\n",
       "      <th>points.climber</th>\n",
       "    </tr>\n",
       "  </thead>\n",
       "  <tbody>\n",
       "    <tr>\n",
       "      <th>count</th>\n",
       "      <td>932.000000</td>\n",
       "      <td>939.000000</td>\n",
       "      <td>1171.000000</td>\n",
       "      <td>1171.000000</td>\n",
       "      <td>1171.000000</td>\n",
       "      <td>1171.000000</td>\n",
       "      <td>1171.000000</td>\n",
       "    </tr>\n",
       "    <tr>\n",
       "      <th>mean</th>\n",
       "      <td>68.057983</td>\n",
       "      <td>179.726305</td>\n",
       "      <td>994.624253</td>\n",
       "      <td>1108.163962</td>\n",
       "      <td>577.475662</td>\n",
       "      <td>1361.237404</td>\n",
       "      <td>675.163962</td>\n",
       "    </tr>\n",
       "    <tr>\n",
       "      <th>std</th>\n",
       "      <td>7.428277</td>\n",
       "      <td>6.302490</td>\n",
       "      <td>1413.888983</td>\n",
       "      <td>1359.737744</td>\n",
       "      <td>1053.506435</td>\n",
       "      <td>1941.494461</td>\n",
       "      <td>1132.370307</td>\n",
       "    </tr>\n",
       "    <tr>\n",
       "      <th>min</th>\n",
       "      <td>1.780000</td>\n",
       "      <td>159.000000</td>\n",
       "      <td>0.000000</td>\n",
       "      <td>0.000000</td>\n",
       "      <td>0.000000</td>\n",
       "      <td>1.000000</td>\n",
       "      <td>0.000000</td>\n",
       "    </tr>\n",
       "    <tr>\n",
       "      <th>25%</th>\n",
       "      <td>64.000000</td>\n",
       "      <td>175.000000</td>\n",
       "      <td>235.000000</td>\n",
       "      <td>310.500000</td>\n",
       "      <td>45.000000</td>\n",
       "      <td>308.500000</td>\n",
       "      <td>91.500000</td>\n",
       "    </tr>\n",
       "    <tr>\n",
       "      <th>50%</th>\n",
       "      <td>68.000000</td>\n",
       "      <td>180.000000</td>\n",
       "      <td>537.000000</td>\n",
       "      <td>647.000000</td>\n",
       "      <td>172.000000</td>\n",
       "      <td>741.000000</td>\n",
       "      <td>275.000000</td>\n",
       "    </tr>\n",
       "    <tr>\n",
       "      <th>75%</th>\n",
       "      <td>73.000000</td>\n",
       "      <td>184.000000</td>\n",
       "      <td>1148.000000</td>\n",
       "      <td>1316.000000</td>\n",
       "      <td>606.000000</td>\n",
       "      <td>1568.500000</td>\n",
       "      <td>746.000000</td>\n",
       "    </tr>\n",
       "    <tr>\n",
       "      <th>max</th>\n",
       "      <td>94.000000</td>\n",
       "      <td>199.000000</td>\n",
       "      <td>15680.000000</td>\n",
       "      <td>12409.000000</td>\n",
       "      <td>10687.000000</td>\n",
       "      <td>22714.000000</td>\n",
       "      <td>13660.000000</td>\n",
       "    </tr>\n",
       "  </tbody>\n",
       "</table>\n",
       "</div>"
      ],
      "text/plain": [
       "           weight      height  points.classic     points.gc     points.tt  \\\n",
       "count  932.000000  939.000000     1171.000000   1171.000000   1171.000000   \n",
       "mean    68.057983  179.726305      994.624253   1108.163962    577.475662   \n",
       "std      7.428277    6.302490     1413.888983   1359.737744   1053.506435   \n",
       "min      1.780000  159.000000        0.000000      0.000000      0.000000   \n",
       "25%     64.000000  175.000000      235.000000    310.500000     45.000000   \n",
       "50%     68.000000  180.000000      537.000000    647.000000    172.000000   \n",
       "75%     73.000000  184.000000     1148.000000   1316.000000    606.000000   \n",
       "max     94.000000  199.000000    15680.000000  12409.000000  10687.000000   \n",
       "\n",
       "       points.sprint  points.climber  \n",
       "count    1171.000000     1171.000000  \n",
       "mean     1361.237404      675.163962  \n",
       "std      1941.494461     1132.370307  \n",
       "min         1.000000        0.000000  \n",
       "25%       308.500000       91.500000  \n",
       "50%       741.000000      275.000000  \n",
       "75%      1568.500000      746.000000  \n",
       "max     22714.000000    13660.000000  "
      ]
     },
     "execution_count": 6,
     "metadata": {},
     "output_type": "execute_result"
    }
   ],
   "source": [
    "riders.describe()"
   ]
  },
  {
   "cell_type": "markdown",
   "metadata": {},
   "source": [
    "### Applying DBSCAN Algorithm\n",
    "#### Without Dimensionality Reduction"
   ]
  },
  {
   "cell_type": "code",
   "execution_count": 7,
   "metadata": {},
   "outputs": [],
   "source": [
    "# Define model and do clustering\n",
    "pipeline = Pipeline([\n",
    "    (\"preprocessor\", PREPROCESSORS[\"numeric_percentage_std\"]),\n",
    "    (\"dbscan\", DBSCAN()),\n",
    "])\n",
    "pipeline.fit(riders)\n",
    "\n",
    "riders[\"cluster\"] = pipeline[\"dbscan\"].labels_"
   ]
  },
  {
   "cell_type": "code",
   "execution_count": 8,
   "metadata": {},
   "outputs": [
    {
     "data": {
      "text/html": [
       "<div>\n",
       "<style scoped>\n",
       "    .dataframe tbody tr th:only-of-type {\n",
       "        vertical-align: middle;\n",
       "    }\n",
       "\n",
       "    .dataframe tbody tr th {\n",
       "        vertical-align: top;\n",
       "    }\n",
       "\n",
       "    .dataframe thead th {\n",
       "        text-align: right;\n",
       "    }\n",
       "</style>\n",
       "<table border=\"1\" class=\"dataframe\">\n",
       "  <thead>\n",
       "    <tr style=\"text-align: right;\">\n",
       "      <th></th>\n",
       "      <th>name</th>\n",
       "    </tr>\n",
       "    <tr>\n",
       "      <th>cluster</th>\n",
       "      <th></th>\n",
       "    </tr>\n",
       "  </thead>\n",
       "  <tbody>\n",
       "    <tr>\n",
       "      <th>-1</th>\n",
       "      <td>1041</td>\n",
       "    </tr>\n",
       "    <tr>\n",
       "      <th>0</th>\n",
       "      <td>64</td>\n",
       "    </tr>\n",
       "    <tr>\n",
       "      <th>1</th>\n",
       "      <td>5</td>\n",
       "    </tr>\n",
       "    <tr>\n",
       "      <th>2</th>\n",
       "      <td>12</td>\n",
       "    </tr>\n",
       "    <tr>\n",
       "      <th>3</th>\n",
       "      <td>16</td>\n",
       "    </tr>\n",
       "    <tr>\n",
       "      <th>4</th>\n",
       "      <td>9</td>\n",
       "    </tr>\n",
       "    <tr>\n",
       "      <th>5</th>\n",
       "      <td>9</td>\n",
       "    </tr>\n",
       "    <tr>\n",
       "      <th>6</th>\n",
       "      <td>5</td>\n",
       "    </tr>\n",
       "    <tr>\n",
       "      <th>7</th>\n",
       "      <td>5</td>\n",
       "    </tr>\n",
       "    <tr>\n",
       "      <th>8</th>\n",
       "      <td>5</td>\n",
       "    </tr>\n",
       "  </tbody>\n",
       "</table>\n",
       "</div>"
      ],
      "text/plain": [
       "         name\n",
       "cluster      \n",
       "-1       1041\n",
       " 0         64\n",
       " 1          5\n",
       " 2         12\n",
       " 3         16\n",
       " 4          9\n",
       " 5          9\n",
       " 6          5\n",
       " 7          5\n",
       " 8          5"
      ]
     },
     "execution_count": 8,
     "metadata": {},
     "output_type": "execute_result"
    }
   ],
   "source": [
    "# Count riders in each cluster\n",
    "riders.groupby(\"cluster\").agg({\"name\": \"count\"})"
   ]
  },
  {
   "cell_type": "code",
   "execution_count": 9,
   "metadata": {},
   "outputs": [
    {
     "data": {
      "text/plain": [
       "<mpl_toolkits.mplot3d.art3d.Path3DCollection at 0x7f7239ae4670>"
      ]
     },
     "execution_count": 9,
     "metadata": {},
     "output_type": "execute_result"
    },
    {
     "data": {
      "image/png": "[encoded data removed]",
      "text/plain": [
       "<Figure size 1080x432 with 1 Axes>"
      ]
     },
     "metadata": {},
     "output_type": "display_data"
    }
   ],
   "source": [
    "# UMAP Visualization\n",
    "riders_umap = riders[[\"weight\", \"height\"] + SPECIALTIES]\n",
    "\n",
    "pipeline = Pipeline([\n",
    "    (\"preprocessor\", PREPROCESSORS[\"numeric_percentage_std\"]),\n",
    "    (\"umap\", umap.UMAP(n_components=3))\n",
    "])\n",
    "\n",
    "embbeding = pipeline.fit_transform(riders_umap)\n",
    "\n",
    "ax = plt.axes(projection=\"3d\")\n",
    "ax.scatter3D(\n",
    "    embbeding[:, 0],\n",
    "    embbeding[:, 1],\n",
    "    embbeding[:, 2],\n",
    "    c=[sns.color_palette(n_colors=20)[x] for x in riders[\"cluster\"]]\n",
    ")"
   ]
  },
  {
   "cell_type": "markdown",
   "metadata": {},
   "source": [
    "#### Dimensionality Reduction with UMAP"
   ]
  },
  {
   "cell_type": "code",
   "execution_count": 202,
   "metadata": {},
   "outputs": [],
   "source": [
    "# Define model and do clustering\n",
    "riders.drop(columns=\"cluster\", inplace=True)\n",
    "\n",
    "reducer = umap.UMAP(n_components=3, n_neighbors=10, min_dist=0.06)\n",
    "\n",
    "pipeline = Pipeline([\n",
    "    (\"preprocessor\", PREPROCESSORS[\"numeric_percentage_std\"]),\n",
    "    (\"umap\", reducer),\n",
    "    (\"dbscan\", DBSCAN(0.4)),\n",
    "])\n",
    "pipeline.fit(riders)\n",
    "\n",
    "riders[\"cluster\"] = pipeline[\"dbscan\"].labels_"
   ]
  },
  {
   "cell_type": "code",
   "execution_count": 203,
   "metadata": {},
   "outputs": [
    {
     "data": {
      "text/html": [
       "<div>\n",
       "<style scoped>\n",
       "    .dataframe tbody tr th:only-of-type {\n",
       "        vertical-align: middle;\n",
       "    }\n",
       "\n",
       "    .dataframe tbody tr th {\n",
       "        vertical-align: top;\n",
       "    }\n",
       "\n",
       "    .dataframe thead th {\n",
       "        text-align: right;\n",
       "    }\n",
       "</style>\n",
       "<table border=\"1\" class=\"dataframe\">\n",
       "  <thead>\n",
       "    <tr style=\"text-align: right;\">\n",
       "      <th></th>\n",
       "      <th>name</th>\n",
       "    </tr>\n",
       "    <tr>\n",
       "      <th>cluster</th>\n",
       "      <th></th>\n",
       "    </tr>\n",
       "  </thead>\n",
       "  <tbody>\n",
       "    <tr>\n",
       "      <th>-1</th>\n",
       "      <td>24</td>\n",
       "    </tr>\n",
       "    <tr>\n",
       "      <th>0</th>\n",
       "      <td>203</td>\n",
       "    </tr>\n",
       "    <tr>\n",
       "      <th>1</th>\n",
       "      <td>270</td>\n",
       "    </tr>\n",
       "    <tr>\n",
       "      <th>2</th>\n",
       "      <td>65</td>\n",
       "    </tr>\n",
       "    <tr>\n",
       "      <th>3</th>\n",
       "      <td>151</td>\n",
       "    </tr>\n",
       "    <tr>\n",
       "      <th>4</th>\n",
       "      <td>336</td>\n",
       "    </tr>\n",
       "    <tr>\n",
       "      <th>5</th>\n",
       "      <td>57</td>\n",
       "    </tr>\n",
       "    <tr>\n",
       "      <th>6</th>\n",
       "      <td>12</td>\n",
       "    </tr>\n",
       "    <tr>\n",
       "      <th>7</th>\n",
       "      <td>10</td>\n",
       "    </tr>\n",
       "    <tr>\n",
       "      <th>8</th>\n",
       "      <td>27</td>\n",
       "    </tr>\n",
       "    <tr>\n",
       "      <th>9</th>\n",
       "      <td>10</td>\n",
       "    </tr>\n",
       "    <tr>\n",
       "      <th>10</th>\n",
       "      <td>6</td>\n",
       "    </tr>\n",
       "  </tbody>\n",
       "</table>\n",
       "</div>"
      ],
      "text/plain": [
       "         name\n",
       "cluster      \n",
       "-1         24\n",
       " 0        203\n",
       " 1        270\n",
       " 2         65\n",
       " 3        151\n",
       " 4        336\n",
       " 5         57\n",
       " 6         12\n",
       " 7         10\n",
       " 8         27\n",
       " 9         10\n",
       " 10         6"
      ]
     },
     "execution_count": 203,
     "metadata": {},
     "output_type": "execute_result"
    }
   ],
   "source": [
    "# Count riders in each cluster\n",
    "riders.groupby(\"cluster\").agg({\"name\": \"count\"})"
   ]
  },
  {
   "cell_type": "code",
   "execution_count": 171,
   "metadata": {},
   "outputs": [
    {
     "data": {
      "text/plain": [
       "<mpl_toolkits.mplot3d.art3d.Path3DCollection at 0x7f71f07f6340>"
      ]
     },
     "execution_count": 171,
     "metadata": {},
     "output_type": "execute_result"
    },
    {
     "data": {
      "image/png": "[encoded data removed]",
      "text/plain": [
       "<Figure size 1080x432 with 1 Axes>"
      ]
     },
     "metadata": {},
     "output_type": "display_data"
    }
   ],
   "source": [
    "# UMAP Visualization\n",
    "riders_umap = riders[[\"weight\", \"height\"] + SPECIALTIES]\n",
    "\n",
    "pipeline = Pipeline([\n",
    "    (\"preprocessor\", PREPROCESSORS[\"numeric_percentage_std\"]),\n",
    "    (\"umap\", reducer)\n",
    "])\n",
    "\n",
    "embbeding = pipeline.fit_transform(riders_umap)\n",
    "\n",
    "ax = plt.axes(projection=\"3d\")\n",
    "ax.scatter3D(\n",
    "    embbeding[:, 0],\n",
    "    embbeding[:, 1],\n",
    "    embbeding[:, 2],\n",
    "    c=[sns.color_palette(n_colors=20)[x] for x in riders[\"cluster\"]]\n",
    ")"
   ]
  },
  {
   "cell_type": "markdown",
   "metadata": {},
   "source": [
    "### Looking at the Number of Stages by Clusters\n",
    "#### Assigning the Stage to the Winner's Cluster"
   ]
  },
  {
   "cell_type": "code",
   "execution_count": 13,
   "metadata": {},
   "outputs": [
    {
     "data": {
      "text/html": [
       "<div>\n",
       "<style scoped>\n",
       "    .dataframe tbody tr th:only-of-type {\n",
       "        vertical-align: middle;\n",
       "    }\n",
       "\n",
       "    .dataframe tbody tr th {\n",
       "        vertical-align: top;\n",
       "    }\n",
       "\n",
       "    .dataframe thead th {\n",
       "        text-align: right;\n",
       "    }\n",
       "</style>\n",
       "<table border=\"1\" class=\"dataframe\">\n",
       "  <thead>\n",
       "    <tr style=\"text-align: right;\">\n",
       "      <th></th>\n",
       "      <th>time_trial</th>\n",
       "      <th>result</th>\n",
       "    </tr>\n",
       "  </thead>\n",
       "  <tbody>\n",
       "    <tr>\n",
       "      <th>0</th>\n",
       "      <td>True</td>\n",
       "      <td>[david-zabriskie, lance-armstrong, alexandre-v...</td>\n",
       "    </tr>\n",
       "    <tr>\n",
       "      <th>1</th>\n",
       "      <td>False</td>\n",
       "      <td>[tom-boonen, thor-hushovd, robbie-mcewen, stua...</td>\n",
       "    </tr>\n",
       "    <tr>\n",
       "      <th>2</th>\n",
       "      <td>False</td>\n",
       "      <td>[tom-boonen, peter-wrolich, stuart-o-grady, be...</td>\n",
       "    </tr>\n",
       "    <tr>\n",
       "      <th>3</th>\n",
       "      <td>False</td>\n",
       "      <td>[robbie-mcewen, tom-boonen, thor-hushovd, stua...</td>\n",
       "    </tr>\n",
       "    <tr>\n",
       "      <th>4</th>\n",
       "      <td>False</td>\n",
       "      <td>[lorenzo-bernucci, alexandre-vinokourov, rober...</td>\n",
       "    </tr>\n",
       "  </tbody>\n",
       "</table>\n",
       "</div>"
      ],
      "text/plain": [
       "   time_trial                                             result\n",
       "0        True  [david-zabriskie, lance-armstrong, alexandre-v...\n",
       "1       False  [tom-boonen, thor-hushovd, robbie-mcewen, stua...\n",
       "2       False  [tom-boonen, peter-wrolich, stuart-o-grady, be...\n",
       "3       False  [robbie-mcewen, tom-boonen, thor-hushovd, stua...\n",
       "4       False  [lorenzo-bernucci, alexandre-vinokourov, rober..."
      ]
     },
     "execution_count": 13,
     "metadata": {},
     "output_type": "execute_result"
    }
   ],
   "source": [
    "# Load stages\n",
    "project = [\"time_trial\", \"result\"]\n",
    "stages = fetch_stages(project=project)\n",
    "stages = pd.DataFrame(stages)\n",
    "stages.head()"
   ]
  },
  {
   "cell_type": "code",
   "execution_count": 14,
   "metadata": {},
   "outputs": [],
   "source": [
    "stages[\"winner\"] = stages[\"result\"].transform(lambda x: x[0])\n",
    "stages_winner = stages.merge(riders, left_on=\"winner\", right_on=\"name\")"
   ]
  },
  {
   "cell_type": "code",
   "execution_count": 15,
   "metadata": {},
   "outputs": [
    {
     "data": {
      "text/html": [
       "<div>\n",
       "<style scoped>\n",
       "    .dataframe tbody tr th:only-of-type {\n",
       "        vertical-align: middle;\n",
       "    }\n",
       "\n",
       "    .dataframe tbody tr th {\n",
       "        vertical-align: top;\n",
       "    }\n",
       "\n",
       "    .dataframe thead th {\n",
       "        text-align: right;\n",
       "    }\n",
       "</style>\n",
       "<table border=\"1\" class=\"dataframe\">\n",
       "  <thead>\n",
       "    <tr style=\"text-align: right;\">\n",
       "      <th></th>\n",
       "      <th>winner</th>\n",
       "    </tr>\n",
       "    <tr>\n",
       "      <th>cluster</th>\n",
       "      <th></th>\n",
       "    </tr>\n",
       "  </thead>\n",
       "  <tbody>\n",
       "    <tr>\n",
       "      <th>-1</th>\n",
       "      <td>28</td>\n",
       "    </tr>\n",
       "    <tr>\n",
       "      <th>0</th>\n",
       "      <td>1028</td>\n",
       "    </tr>\n",
       "  </tbody>\n",
       "</table>\n",
       "</div>"
      ],
      "text/plain": [
       "         winner\n",
       "cluster        \n",
       "-1           28\n",
       " 0         1028"
      ]
     },
     "execution_count": 15,
     "metadata": {},
     "output_type": "execute_result"
    }
   ],
   "source": [
    "stages_winner.groupby(\"cluster\").agg({\"winner\": \"count\"})"
   ]
  },
  {
   "cell_type": "markdown",
   "metadata": {},
   "source": [
    "#### Assigning the Stage to the Mode of the First 10 Riders' Clusters"
   ]
  },
  {
   "cell_type": "code",
   "execution_count": 16,
   "metadata": {},
   "outputs": [],
   "source": [
    "def get_clusters(result):\n",
    "    clusters = []\n",
    "    for rider in result:\n",
    "        mask = (riders[\"name\"] == rider)\n",
    "        cluster = riders[mask][\"cluster\"]\n",
    "        clusters.append(cluster)\n",
    "    return np.array(clusters, dtype=\"uint8\")\n",
    "\n",
    "stages[\"result_clusters\"] = stages[\"result\"].transform(lambda result: get_clusters(result))"
   ]
  },
  {
   "cell_type": "code",
   "execution_count": 17,
   "metadata": {},
   "outputs": [],
   "source": [
    "stages[\"cluster_mode\"] = stages[\"result_clusters\"].transform(lambda x: mode(x, axis=None).mode[0])"
   ]
  },
  {
   "cell_type": "code",
   "execution_count": 18,
   "metadata": {},
   "outputs": [
    {
     "data": {
      "text/html": [
       "<div>\n",
       "<style scoped>\n",
       "    .dataframe tbody tr th:only-of-type {\n",
       "        vertical-align: middle;\n",
       "    }\n",
       "\n",
       "    .dataframe tbody tr th {\n",
       "        vertical-align: top;\n",
       "    }\n",
       "\n",
       "    .dataframe thead th {\n",
       "        text-align: right;\n",
       "    }\n",
       "</style>\n",
       "<table border=\"1\" class=\"dataframe\">\n",
       "  <thead>\n",
       "    <tr style=\"text-align: right;\">\n",
       "      <th></th>\n",
       "      <th>result</th>\n",
       "    </tr>\n",
       "    <tr>\n",
       "      <th>cluster_mode</th>\n",
       "      <th></th>\n",
       "    </tr>\n",
       "  </thead>\n",
       "  <tbody>\n",
       "    <tr>\n",
       "      <th>0</th>\n",
       "      <td>1056</td>\n",
       "    </tr>\n",
       "  </tbody>\n",
       "</table>\n",
       "</div>"
      ],
      "text/plain": [
       "              result\n",
       "cluster_mode        \n",
       "0               1056"
      ]
     },
     "execution_count": 18,
     "metadata": {},
     "output_type": "execute_result"
    }
   ],
   "source": [
    "stages.groupby(\"cluster_mode\").agg({\"result\": \"count\"})"
   ]
  },
  {
   "cell_type": "markdown",
   "metadata": {},
   "source": [
    "Decision: assign the stage the cluster of the winner, as the classes are more balanced."
   ]
  },
  {
   "cell_type": "code",
   "execution_count": 19,
   "metadata": {},
   "outputs": [
    {
     "data": {
      "text/plain": [
       "<mpl_toolkits.mplot3d.art3d.Path3DCollection at 0x7f7220143a60>"
      ]
     },
     "execution_count": 19,
     "metadata": {},
     "output_type": "execute_result"
    },
    {
     "data": {
      "image/png": "[encoded data removed]",
      "text/plain": [
       "<Figure size 1080x432 with 1 Axes>"
      ]
     },
     "metadata": {},
     "output_type": "display_data"
    }
   ],
   "source": [
    "ax = plt.axes(projection=\"3d\")\n",
    "ax.scatter3D(\n",
    "    embbeding[:, 0],\n",
    "    embbeding[:, 1],\n",
    "    embbeding[:, 2],\n",
    "    c=[sns.color_palette()[x] for x in riders[\"cluster\"]]\n",
    ")"
   ]
  },
  {
   "cell_type": "code",
   "execution_count": 20,
   "metadata": {},
   "outputs": [
    {
     "data": {
      "text/plain": [
       "(1171, 3)"
      ]
     },
     "execution_count": 20,
     "metadata": {},
     "output_type": "execute_result"
    }
   ],
   "source": [
    "embbeding.shape"
   ]
  },
  {
   "cell_type": "code",
   "execution_count": 21,
   "metadata": {},
   "outputs": [
    {
     "ename": "NameError",
     "evalue": "name 'pipe' is not defined",
     "output_type": "error",
     "traceback": [
      "\u001b[0;31m---------------------------------------------------------------------------\u001b[0m",
      "\u001b[0;31mNameError\u001b[0m                                 Traceback (most recent call last)",
      "\u001b[0;32m<ipython-input-21-6b62e34f3dff>\u001b[0m in \u001b[0;36m<module>\u001b[0;34m\u001b[0m\n\u001b[0;32m----> 1\u001b[0;31m \u001b[0mriders_umap\u001b[0m \u001b[0;34m=\u001b[0m \u001b[0mpipe\u001b[0m\u001b[0;34m.\u001b[0m\u001b[0mfit_transform\u001b[0m\u001b[0;34m(\u001b[0m\u001b[0mriders_umap\u001b[0m\u001b[0;34m)\u001b[0m\u001b[0;34m\u001b[0m\u001b[0;34m\u001b[0m\u001b[0m\n\u001b[0m\u001b[1;32m      2\u001b[0m \u001b[0membbeding\u001b[0m \u001b[0;34m=\u001b[0m \u001b[0mreducer\u001b[0m\u001b[0;34m.\u001b[0m\u001b[0mfit_transform\u001b[0m\u001b[0;34m(\u001b[0m\u001b[0mriders_umap\u001b[0m\u001b[0;34m)\u001b[0m\u001b[0;34m\u001b[0m\u001b[0;34m\u001b[0m\u001b[0m\n",
      "\u001b[0;31mNameError\u001b[0m: name 'pipe' is not defined"
     ]
    }
   ],
   "source": [
    "riders_umap = pipe.fit_transform(riders_umap)\n",
    "embbeding = reducer.fit_transform(riders_umap)"
   ]
  },
  {
   "cell_type": "code",
   "execution_count": null,
   "metadata": {},
   "outputs": [],
   "source": []
  }
 ],
 "metadata": {
  "kernelspec": {
   "display_name": "Python 3",
   "language": "python",
   "name": "python3"
  },
  "language_info": {
   "codemirror_mode": {
    "name": "ipython",
    "version": 3
   },
   "file_extension": ".py",
   "mimetype": "text/x-python",
   "name": "python",
   "nbconvert_exporter": "python",
   "pygments_lexer": "ipython3",
   "version": "3.8.5"
  }
 },
 "nbformat": 4,
 "nbformat_minor": 2
}
